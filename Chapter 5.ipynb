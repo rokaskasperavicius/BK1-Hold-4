{
 "cells": [
  {
   "cell_type": "code",
   "execution_count": 2,
   "id": "98f0ed50",
   "metadata": {},
   "outputs": [],
   "source": [
    "import pandas as pd"
   ]
  },
  {
   "cell_type": "markdown",
   "id": "7edca225",
   "metadata": {},
   "source": [
    "### 5.4"
   ]
  },
  {
   "cell_type": "code",
   "execution_count": 3,
   "id": "b5f38edb",
   "metadata": {},
   "outputs": [
    {
     "data": {
      "text/plain": [
       "3.0"
      ]
     },
     "execution_count": 3,
     "metadata": {},
     "output_type": "execute_result"
    }
   ],
   "source": [
    "popcorn_df = pd.Series([4, 2, 3, 2, 4])\n",
    "\n",
    "# Mean\n",
    "popcorn_data.mean()"
   ]
  },
  {
   "cell_type": "markdown",
   "id": "4a9caa37",
   "metadata": {},
   "source": [
    "### 5.6"
   ]
  },
  {
   "cell_type": "code",
   "execution_count": 16,
   "id": "79fac5d0",
   "metadata": {},
   "outputs": [
    {
     "data": {
      "text/plain": [
       "<AxesSubplot:>"
      ]
     },
     "execution_count": 16,
     "metadata": {},
     "output_type": "execute_result"
    },
    {
     "data": {
      "image/png": "[encoded data removed]",
      "text/plain": [
       "<Figure size 432x288 with 1 Axes>"
      ]
     },
     "metadata": {
      "needs_background": "light"
     },
     "output_type": "display_data"
    }
   ],
   "source": [
    "df = pd.Series([1, 3, 4, 6, 7, 9, 11, 15, 19])\n",
    "\n",
    "df.plot.box()"
   ]
  },
  {
   "cell_type": "code",
   "execution_count": 7,
   "id": "2dbf085c",
   "metadata": {},
   "outputs": [
    {
     "data": {
      "text/plain": [
       "count     9.000000\n",
       "mean      8.333333\n",
       "std       5.852350\n",
       "min       1.000000\n",
       "25%       4.000000\n",
       "50%       7.000000\n",
       "75%      11.000000\n",
       "max      19.000000\n",
       "dtype: float64"
      ]
     },
     "execution_count": 7,
     "metadata": {},
     "output_type": "execute_result"
    }
   ],
   "source": [
    "df.describe()"
   ]
  },
  {
   "cell_type": "markdown",
   "id": "2d4d93d9",
   "metadata": {},
   "source": [
    "### 5.8"
   ]
  },
  {
   "cell_type": "code",
   "execution_count": 3,
   "id": "4cf3d399",
   "metadata": {},
   "outputs": [
    {
     "data": {
      "text/plain": [
       "6.9"
      ]
     },
     "execution_count": 3,
     "metadata": {},
     "output_type": "execute_result"
    }
   ],
   "source": [
    "df = pd.Series([6.3, 5.9, 7.0, 6.9, 5.9])\n",
    "\n",
    "df.mean()\n",
    "\n",
    "df.quantile(q=0.75)"
   ]
  },
  {
   "cell_type": "code",
   "execution_count": 11,
   "id": "da58d690",
   "metadata": {},
   "outputs": [
    {
     "data": {
      "text/plain": [
       "<AxesSubplot:>"
      ]
     },
     "execution_count": 11,
     "metadata": {},
     "output_type": "execute_result"
    },
    {
     "data": {
      "image/png": "[encoded data removed]",
      "text/plain": [
       "<Figure size 432x288 with 1 Axes>"
      ]
     },
     "metadata": {
      "needs_background": "light"
     },
     "output_type": "display_data"
    }
   ],
   "source": [
    "df.plot.box()"
   ]
  },
  {
   "cell_type": "code",
   "execution_count": 3,
   "id": "603c18b7",
   "metadata": {},
   "outputs": [
    {
     "data": {
      "text/plain": [
       "16.7"
      ]
     },
     "execution_count": 3,
     "metadata": {},
     "output_type": "execute_result"
    }
   ],
   "source": [
    "df = pd.Series([13, 13, 14, 14, 15, 15, 16, 20, 21, 26])\n",
    "\n",
    "df.mean()"
   ]
  },
  {
   "cell_type": "code",
   "execution_count": 4,
   "id": "2fcebe99",
   "metadata": {},
   "outputs": [
    {
     "data": {
      "text/plain": [
       "14.0"
      ]
     },
     "execution_count": 4,
     "metadata": {},
     "output_type": "execute_result"
    }
   ],
   "source": [
    "df.quantile(q=0.25, interpolation='midpoint')"
   ]
  },
  {
   "cell_type": "code",
   "execution_count": 6,
   "id": "aaeda4ee",
   "metadata": {},
   "outputs": [
    {
     "data": {
      "text/plain": [
       "18.0"
      ]
     },
     "execution_count": 6,
     "metadata": {},
     "output_type": "execute_result"
    }
   ],
   "source": [
    "df.quantile(q=0.75, interpolation='midpoint')"
   ]
  },
  {
   "cell_type": "code",
   "execution_count": 13,
   "id": "cb75dc41",
   "metadata": {},
   "outputs": [
    {
     "data": {
      "text/plain": [
       "<AxesSubplot:>"
      ]
     },
     "execution_count": 13,
     "metadata": {},
     "output_type": "execute_result"
    },
    {
     "data": {
      "image/png": "[encoded data removed]",
      "text/plain": [
       "<Figure size 432x288 with 1 Axes>"
      ]
     },
     "metadata": {
      "needs_background": "light"
     },
     "output_type": "display_data"
    }
   ],
   "source": [
    "df.plot.box()"
   ]
  },
  {
   "cell_type": "code",
   "execution_count": 33,
   "id": "5e46731d",
   "metadata": {},
   "outputs": [
    {
     "name": "stdout",
     "output_type": "stream",
     "text": [
      "18.233333333333334\n"
     ]
    }
   ],
   "source": [
    "print(df.var())"
   ]
  },
  {
   "cell_type": "code",
   "execution_count": 34,
   "id": "9c88d5b0",
   "metadata": {},
   "outputs": [
    {
     "name": "stdout",
     "output_type": "stream",
     "text": [
      "4.270050741306634\n"
     ]
    }
   ],
   "source": [
    "print(df.std())"
   ]
  },
  {
   "cell_type": "markdown",
   "id": "ea3f7078",
   "metadata": {},
   "source": [
    "### 5.10"
   ]
  },
  {
   "cell_type": "code",
   "execution_count": 36,
   "id": "d171b1f3",
   "metadata": {},
   "outputs": [],
   "source": [
    "df = pd.read_csv('popcorn.csv')"
   ]
  },
  {
   "cell_type": "code",
   "execution_count": 37,
   "id": "73e8f03a",
   "metadata": {},
   "outputs": [],
   "source": [
    "longest = df['Size (longest)']"
   ]
  },
  {
   "cell_type": "code",
   "execution_count": 38,
   "id": "c956b2b6",
   "metadata": {},
   "outputs": [
    {
     "data": {
      "text/plain": [
       "<AxesSubplot:ylabel='Frequency'>"
      ]
     },
     "execution_count": 38,
     "metadata": {},
     "output_type": "execute_result"
    },
    {
     "data": {
      "image/png": "[encoded data removed]",
      "text/plain": [
       "<Figure size 432x288 with 1 Axes>"
      ]
     },
     "metadata": {
      "needs_background": "light"
     },
     "output_type": "display_data"
    }
   ],
   "source": [
    "longest.plot.hist(bins=8)"
   ]
  },
  {
   "cell_type": "code",
   "execution_count": 39,
   "id": "d9cf9332",
   "metadata": {},
   "outputs": [
    {
     "data": {
      "text/plain": [
       "count    100.000000\n",
       "mean      23.610000\n",
       "std        9.457929\n",
       "min        5.000000\n",
       "25%       19.000000\n",
       "50%       24.000000\n",
       "75%       30.000000\n",
       "max       47.000000\n",
       "Name: Size (longest), dtype: float64"
      ]
     },
     "execution_count": 39,
     "metadata": {},
     "output_type": "execute_result"
    }
   ],
   "source": [
    "longest.describe()"
   ]
  },
  {
   "cell_type": "code",
   "execution_count": 40,
   "id": "bc456a22",
   "metadata": {},
   "outputs": [
    {
     "data": {
      "text/plain": [
       "24.0"
      ]
     },
     "execution_count": 40,
     "metadata": {},
     "output_type": "execute_result"
    }
   ],
   "source": [
    "longest.median()"
   ]
  },
  {
   "cell_type": "code",
   "execution_count": 41,
   "id": "b55569f9",
   "metadata": {},
   "outputs": [
    {
     "data": {
      "text/plain": [
       "0.40058996921006707"
      ]
     },
     "execution_count": 41,
     "metadata": {},
     "output_type": "execute_result"
    }
   ],
   "source": [
    "# Coefficient of variation\n",
    "longest.std() / longest.mean()"
   ]
  },
  {
   "cell_type": "code",
   "execution_count": 62,
   "id": "acf6d963",
   "metadata": {},
   "outputs": [
    {
     "data": {
      "text/plain": [
       "11"
      ]
     },
     "execution_count": 62,
     "metadata": {},
     "output_type": "execute_result"
    }
   ],
   "source": [
    "IQR = 30 - 19\n",
    "IQR"
   ]
  },
  {
   "cell_type": "code",
   "execution_count": 63,
   "id": "eac12d09",
   "metadata": {},
   "outputs": [
    {
     "data": {
      "text/plain": [
       "2.5"
      ]
     },
     "execution_count": 63,
     "metadata": {},
     "output_type": "execute_result"
    }
   ],
   "source": [
    "lf = 19 - 1.5 * IQR\n",
    "lf"
   ]
  },
  {
   "cell_type": "code",
   "execution_count": 64,
   "id": "a5cc0585",
   "metadata": {},
   "outputs": [
    {
     "data": {
      "text/plain": [
       "46.5"
      ]
     },
     "execution_count": 64,
     "metadata": {},
     "output_type": "execute_result"
    }
   ],
   "source": [
    "uf = 30 + 1.5 * IQR\n",
    "uf"
   ]
  },
  {
   "cell_type": "code",
   "execution_count": 45,
   "id": "8f93da11",
   "metadata": {},
   "outputs": [],
   "source": [
    "shortest = df['Size (shortest)']"
   ]
  },
  {
   "cell_type": "code",
   "execution_count": 46,
   "id": "9c89e40e",
   "metadata": {},
   "outputs": [
    {
     "data": {
      "text/plain": [
       "<AxesSubplot:ylabel='Frequency'>"
      ]
     },
     "execution_count": 46,
     "metadata": {},
     "output_type": "execute_result"
    },
    {
     "data": {
      "image/png": "[encoded data removed]",
      "text/plain": [
       "<Figure size 432x288 with 1 Axes>"
      ]
     },
     "metadata": {
      "needs_background": "light"
     },
     "output_type": "display_data"
    }
   ],
   "source": [
    "shortest.plot.hist(bins=8)"
   ]
  },
  {
   "cell_type": "code",
   "execution_count": 47,
   "id": "1394b23c",
   "metadata": {},
   "outputs": [
    {
     "data": {
      "text/plain": [
       "count    100.000000\n",
       "mean       9.970000\n",
       "std        4.091022\n",
       "min        4.000000\n",
       "25%        6.000000\n",
       "50%       10.000000\n",
       "75%       12.000000\n",
       "max       22.000000\n",
       "Name: Size (shortest), dtype: float64"
      ]
     },
     "execution_count": 47,
     "metadata": {},
     "output_type": "execute_result"
    }
   ],
   "source": [
    "shortest.describe()"
   ]
  },
  {
   "cell_type": "code",
   "execution_count": 48,
   "id": "f1d131e3",
   "metadata": {},
   "outputs": [
    {
     "data": {
      "text/plain": [
       "10.0"
      ]
     },
     "execution_count": 48,
     "metadata": {},
     "output_type": "execute_result"
    }
   ],
   "source": [
    "shortest.median()"
   ]
  },
  {
   "cell_type": "code",
   "execution_count": 49,
   "id": "c665558b",
   "metadata": {},
   "outputs": [
    {
     "data": {
      "text/plain": [
       "0.4103332442445996"
      ]
     },
     "execution_count": 49,
     "metadata": {},
     "output_type": "execute_result"
    }
   ],
   "source": [
    "# Coefficient of variation\n",
    "shortest.std() / shortest.mean()"
   ]
  },
  {
   "cell_type": "code",
   "execution_count": 50,
   "id": "ae783011",
   "metadata": {},
   "outputs": [
    {
     "data": {
      "text/plain": [
       "6"
      ]
     },
     "execution_count": 50,
     "metadata": {},
     "output_type": "execute_result"
    }
   ],
   "source": [
    "IQR = 12 - 6\n",
    "IQR"
   ]
  },
  {
   "cell_type": "code",
   "execution_count": 60,
   "id": "41ef4396",
   "metadata": {},
   "outputs": [
    {
     "data": {
      "text/plain": [
       "-3.0"
      ]
     },
     "execution_count": 60,
     "metadata": {},
     "output_type": "execute_result"
    }
   ],
   "source": [
    "lf = 6 - 1.5 * IQR\n",
    "lf"
   ]
  },
  {
   "cell_type": "code",
   "execution_count": 61,
   "id": "8240059c",
   "metadata": {},
   "outputs": [
    {
     "data": {
      "text/plain": [
       "21.0"
      ]
     },
     "execution_count": 61,
     "metadata": {},
     "output_type": "execute_result"
    }
   ],
   "source": [
    "uf = 12 + 1.5 * IQR\n",
    "uf"
   ]
  },
  {
   "cell_type": "code",
   "execution_count": 58,
   "id": "6a60161d",
   "metadata": {},
   "outputs": [
    {
     "data": {
      "text/plain": [
       "<AxesSubplot:>"
      ]
     },
     "execution_count": 58,
     "metadata": {},
     "output_type": "execute_result"
    },
    {
     "data": {
      "image/png": "[encoded data removed]",
      "text/plain": [
       "<Figure size 432x288 with 1 Axes>"
      ]
     },
     "metadata": {
      "needs_background": "light"
     },
     "output_type": "display_data"
    }
   ],
   "source": [
    "df[['Size (longest)', 'Size (shortest)']].boxplot()"
   ]
  },
  {
   "cell_type": "code",
   "execution_count": 59,
   "id": "e43098f0",
   "metadata": {},
   "outputs": [
    {
     "data": {
      "text/html": [
       "<div>\n",
       "<style scoped>\n",
       "    .dataframe tbody tr th:only-of-type {\n",
       "        vertical-align: middle;\n",
       "    }\n",
       "\n",
       "    .dataframe tbody tr th {\n",
       "        vertical-align: top;\n",
       "    }\n",
       "\n",
       "    .dataframe thead th {\n",
       "        text-align: right;\n",
       "    }\n",
       "</style>\n",
       "<table border=\"1\" class=\"dataframe\">\n",
       "  <thead>\n",
       "    <tr style=\"text-align: right;\">\n",
       "      <th></th>\n",
       "      <th>Size (longest)</th>\n",
       "      <th>Size (shortest)</th>\n",
       "    </tr>\n",
       "  </thead>\n",
       "  <tbody>\n",
       "    <tr>\n",
       "      <th>0</th>\n",
       "      <td>29</td>\n",
       "      <td>9</td>\n",
       "    </tr>\n",
       "    <tr>\n",
       "      <th>1</th>\n",
       "      <td>31</td>\n",
       "      <td>6</td>\n",
       "    </tr>\n",
       "    <tr>\n",
       "      <th>2</th>\n",
       "      <td>20</td>\n",
       "      <td>12</td>\n",
       "    </tr>\n",
       "    <tr>\n",
       "      <th>3</th>\n",
       "      <td>28</td>\n",
       "      <td>12</td>\n",
       "    </tr>\n",
       "    <tr>\n",
       "      <th>4</th>\n",
       "      <td>31</td>\n",
       "      <td>12</td>\n",
       "    </tr>\n",
       "    <tr>\n",
       "      <th>...</th>\n",
       "      <td>...</td>\n",
       "      <td>...</td>\n",
       "    </tr>\n",
       "    <tr>\n",
       "      <th>95</th>\n",
       "      <td>23</td>\n",
       "      <td>18</td>\n",
       "    </tr>\n",
       "    <tr>\n",
       "      <th>96</th>\n",
       "      <td>8</td>\n",
       "      <td>5</td>\n",
       "    </tr>\n",
       "    <tr>\n",
       "      <th>97</th>\n",
       "      <td>28</td>\n",
       "      <td>12</td>\n",
       "    </tr>\n",
       "    <tr>\n",
       "      <th>98</th>\n",
       "      <td>17</td>\n",
       "      <td>6</td>\n",
       "    </tr>\n",
       "    <tr>\n",
       "      <th>99</th>\n",
       "      <td>16</td>\n",
       "      <td>4</td>\n",
       "    </tr>\n",
       "  </tbody>\n",
       "</table>\n",
       "<p>100 rows × 2 columns</p>\n",
       "</div>"
      ],
      "text/plain": [
       "    Size (longest)  Size (shortest)\n",
       "0               29                9\n",
       "1               31                6\n",
       "2               20               12\n",
       "3               28               12\n",
       "4               31               12\n",
       "..             ...              ...\n",
       "95              23               18\n",
       "96               8                5\n",
       "97              28               12\n",
       "98              17                6\n",
       "99              16                4\n",
       "\n",
       "[100 rows x 2 columns]"
      ]
     },
     "execution_count": 59,
     "metadata": {},
     "output_type": "execute_result"
    }
   ],
   "source": [
    "df[['Size (longest)', 'Size (shortest)']]"
   ]
  },
  {
   "cell_type": "code",
   "execution_count": 7,
   "id": "eb2e3cac",
   "metadata": {},
   "outputs": [],
   "source": [
    "import pandas as pd\n",
    "import matplotlib.pyplot as plt\n",
    "import numpy as np\n",
    "%matplotlib notebook"
   ]
  },
  {
   "cell_type": "code",
   "execution_count": 17,
   "id": "51858d13",
   "metadata": {},
   "outputs": [
    {
     "data": {
      "application/javascript": [
       "/* Put everything inside the global mpl namespace */\n",
       "/* global mpl */\n",
       "window.mpl = {};\n",
       "\n",
       "mpl.get_websocket_type = function () {\n",
       "    if (typeof WebSocket !== 'undefined') {\n",
       "        return WebSocket;\n",
       "    } else if (typeof MozWebSocket !== 'undefined') {\n",
       "        return MozWebSocket;\n",
       "    } else {\n",
       "        alert(\n",
       "            'Your browser does not have WebSocket support. ' +\n",
       "                'Please try Chrome, Safari or Firefox ≥ 6. ' +\n",
       "                'Firefox 4 and 5 are also supported but you ' +\n",
       "                'have to enable WebSockets in about:config.'\n",
       "        );\n",
       "    }\n",
       "};\n",
       "\n",
       "mpl.figure = function (figure_id, websocket, ondownload, parent_element) {\n",
       "    this.id = figure_id;\n",
       "\n",
       "    this.ws = websocket;\n",
       "\n",
       "    this.supports_binary = this.ws.binaryType !== undefined;\n",
       "\n",
       "    if (!this.supports_binary) {\n",
       "        var warnings = document.getElementById('mpl-warnings');\n",
       "        if (warnings) {\n",
       "            warnings.style.display = 'block';\n",
       "            warnings.textContent =\n",
       "                'This browser does not support binary websocket messages. ' +\n",
       "                'Performance may be slow.';\n",
       "        }\n",
       "    }\n",
       "\n",
       "    this.imageObj = new Image();\n",
       "\n",
       "    this.context = undefined;\n",
       "    this.message = undefined;\n",
       "    this.canvas = undefined;\n",
       "    this.rubberband_canvas = undefined;\n",
       "    this.rubberband_context = undefined;\n",
       "    this.format_dropdown = undefined;\n",
       "\n",
       "    this.image_mode = 'full';\n",
       "\n",
       "    this.root = document.createElement('div');\n",
       "    this.root.setAttribute('style', 'display: inline-block');\n",
       "    this._root_extra_style(this.root);\n",
       "\n",
       "    parent_element.appendChild(this.root);\n",
       "\n",
       "    this._init_header(this);\n",
       "    this._init_canvas(this);\n",
       "    this._init_toolbar(this);\n",
       "\n",
       "    var fig = this;\n",
       "\n",
       "    this.waiting = false;\n",
       "\n",
       "    this.ws.onopen = function () {\n",
       "        fig.send_message('supports_binary', { value: fig.supports_binary });\n",
       "        fig.send_message('send_image_mode', {});\n",
       "        if (fig.ratio !== 1) {\n",
       "            fig.send_message('set_device_pixel_ratio', {\n",
       "                device_pixel_ratio: fig.ratio,\n",
       "            });\n",
       "        }\n",
       "        fig.send_message('refresh', {});\n",
       "    };\n",
       "\n",
       "    this.imageObj.onload = function () {\n",
       "        if (fig.image_mode === 'full') {\n",
       "            // Full images could contain transparency (where diff images\n",
       "            // almost always do), so we need to clear the canvas so that\n",
       "            // there is no ghosting.\n",
       "            fig.context.clearRect(0, 0, fig.canvas.width, fig.canvas.height);\n",
       "        }\n",
       "        fig.context.drawImage(fig.imageObj, 0, 0);\n",
       "    };\n",
       "\n",
       "    this.imageObj.onunload = function () {\n",
       "        fig.ws.close();\n",
       "    };\n",
       "\n",
       "    this.ws.onmessage = this._make_on_message_function(this);\n",
       "\n",
       "    this.ondownload = ondownload;\n",
       "};\n",
       "\n",
       "mpl.figure.prototype._init_header = function () {\n",
       "    var titlebar = document.createElement('div');\n",
       "    titlebar.classList =\n",
       "        'ui-dialog-titlebar ui-widget-header ui-corner-all ui-helper-clearfix';\n",
       "    var titletext = document.createElement('div');\n",
       "    titletext.classList = 'ui-dialog-title';\n",
       "    titletext.setAttribute(\n",
       "        'style',\n",
       "        'width: 100%; text-align: center; padding: 3px;'\n",
       "    );\n",
       "    titlebar.appendChild(titletext);\n",
       "    this.root.appendChild(titlebar);\n",
       "    this.header = titletext;\n",
       "};\n",
       "\n",
       "mpl.figure.prototype._canvas_extra_style = function (_canvas_div) {};\n",
       "\n",
       "mpl.figure.prototype._root_extra_style = function (_canvas_div) {};\n",
       "\n",
       "mpl.figure.prototype._init_canvas = function () {\n",
       "    var fig = this;\n",
       "\n",
       "    var canvas_div = (this.canvas_div = document.createElement('div'));\n",
       "    canvas_div.setAttribute(\n",
       "        'style',\n",
       "        'border: 1px solid #ddd;' +\n",
       "            'box-sizing: content-box;' +\n",
       "            'clear: both;' +\n",
       "            'min-height: 1px;' +\n",
       "            'min-width: 1px;' +\n",
       "            'outline: 0;' +\n",
       "            'overflow: hidden;' +\n",
       "            'position: relative;' +\n",
       "            'resize: both;'\n",
       "    );\n",
       "\n",
       "    function on_keyboard_event_closure(name) {\n",
       "        return function (event) {\n",
       "            return fig.key_event(event, name);\n",
       "        };\n",
       "    }\n",
       "\n",
       "    canvas_div.addEventListener(\n",
       "        'keydown',\n",
       "        on_keyboard_event_closure('key_press')\n",
       "    );\n",
       "    canvas_div.addEventListener(\n",
       "        'keyup',\n",
       "        on_keyboard_event_closure('key_release')\n",
       "    );\n",
       "\n",
       "    this._canvas_extra_style(canvas_div);\n",
       "    this.root.appendChild(canvas_div);\n",
       "\n",
       "    var canvas = (this.canvas = document.createElement('canvas'));\n",
       "    canvas.classList.add('mpl-canvas');\n",
       "    canvas.setAttribute('style', 'box-sizing: content-box;');\n",
       "\n",
       "    this.context = canvas.getContext('2d');\n",
       "\n",
       "    var backingStore =\n",
       "        this.context.backingStorePixelRatio ||\n",
       "        this.context.webkitBackingStorePixelRatio ||\n",
       "        this.context.mozBackingStorePixelRatio ||\n",
       "        this.context.msBackingStorePixelRatio ||\n",
       "        this.context.oBackingStorePixelRatio ||\n",
       "        this.context.backingStorePixelRatio ||\n",
       "        1;\n",
       "\n",
       "    this.ratio = (window.devicePixelRatio || 1) / backingStore;\n",
       "\n",
       "    var rubberband_canvas = (this.rubberband_canvas = document.createElement(\n",
       "        'canvas'\n",
       "    ));\n",
       "    rubberband_canvas.setAttribute(\n",
       "        'style',\n",
       "        'box-sizing: content-box; position: absolute; left: 0; top: 0; z-index: 1;'\n",
       "    );\n",
       "\n",
       "    // Apply a ponyfill if ResizeObserver is not implemented by browser.\n",
       "    if (this.ResizeObserver === undefined) {\n",
       "        if (window.ResizeObserver !== undefined) {\n",
       "            this.ResizeObserver = window.ResizeObserver;\n",
       "        } else {\n",
       "            var obs = _JSXTOOLS_RESIZE_OBSERVER({});\n",
       "            this.ResizeObserver = obs.ResizeObserver;\n",
       "        }\n",
       "    }\n",
       "\n",
       "    this.resizeObserverInstance = new this.ResizeObserver(function (entries) {\n",
       "        var nentries = entries.length;\n",
       "        for (var i = 0; i < nentries; i++) {\n",
       "            var entry = entries[i];\n",
       "            var width, height;\n",
       "            if (entry.contentBoxSize) {\n",
       "                if (entry.contentBoxSize instanceof Array) {\n",
       "                    // Chrome 84 implements new version of spec.\n",
       "                    width = entry.contentBoxSize[0].inlineSize;\n",
       "                    height = entry.contentBoxSize[0].blockSize;\n",
       "                } else {\n",
       "                    // Firefox implements old version of spec.\n",
       "                    width = entry.contentBoxSize.inlineSize;\n",
       "                    height = entry.contentBoxSize.blockSize;\n",
       "                }\n",
       "            } else {\n",
       "                // Chrome <84 implements even older version of spec.\n",
       "                width = entry.contentRect.width;\n",
       "                height = entry.contentRect.height;\n",
       "            }\n",
       "\n",
       "            // Keep the size of the canvas and rubber band canvas in sync with\n",
       "            // the canvas container.\n",
       "            if (entry.devicePixelContentBoxSize) {\n",
       "                // Chrome 84 implements new version of spec.\n",
       "                canvas.setAttribute(\n",
       "                    'width',\n",
       "                    entry.devicePixelContentBoxSize[0].inlineSize\n",
       "                );\n",
       "                canvas.setAttribute(\n",
       "                    'height',\n",
       "                    entry.devicePixelContentBoxSize[0].blockSize\n",
       "                );\n",
       "            } else {\n",
       "                canvas.setAttribute('width', width * fig.ratio);\n",
       "                canvas.setAttribute('height', height * fig.ratio);\n",
       "            }\n",
       "            canvas.setAttribute(\n",
       "                'style',\n",
       "                'width: ' + width + 'px; height: ' + height + 'px;'\n",
       "            );\n",
       "\n",
       "            rubberband_canvas.setAttribute('width', width);\n",
       "            rubberband_canvas.setAttribute('height', height);\n",
       "\n",
       "            // And update the size in Python. We ignore the initial 0/0 size\n",
       "            // that occurs as the element is placed into the DOM, which should\n",
       "            // otherwise not happen due to the minimum size styling.\n",
       "            if (fig.ws.readyState == 1 && width != 0 && height != 0) {\n",
       "                fig.request_resize(width, height);\n",
       "            }\n",
       "        }\n",
       "    });\n",
       "    this.resizeObserverInstance.observe(canvas_div);\n",
       "\n",
       "    function on_mouse_event_closure(name) {\n",
       "        return function (event) {\n",
       "            return fig.mouse_event(event, name);\n",
       "        };\n",
       "    }\n",
       "\n",
       "    rubberband_canvas.addEventListener(\n",
       "        'mousedown',\n",
       "        on_mouse_event_closure('button_press')\n",
       "    );\n",
       "    rubberband_canvas.addEventListener(\n",
       "        'mouseup',\n",
       "        on_mouse_event_closure('button_release')\n",
       "    );\n",
       "    rubberband_canvas.addEventListener(\n",
       "        'dblclick',\n",
       "        on_mouse_event_closure('dblclick')\n",
       "    );\n",
       "    // Throttle sequential mouse events to 1 every 20ms.\n",
       "    rubberband_canvas.addEventListener(\n",
       "        'mousemove',\n",
       "        on_mouse_event_closure('motion_notify')\n",
       "    );\n",
       "\n",
       "    rubberband_canvas.addEventListener(\n",
       "        'mouseenter',\n",
       "        on_mouse_event_closure('figure_enter')\n",
       "    );\n",
       "    rubberband_canvas.addEventListener(\n",
       "        'mouseleave',\n",
       "        on_mouse_event_closure('figure_leave')\n",
       "    );\n",
       "\n",
       "    canvas_div.addEventListener('wheel', function (event) {\n",
       "        if (event.deltaY < 0) {\n",
       "            event.step = 1;\n",
       "        } else {\n",
       "            event.step = -1;\n",
       "        }\n",
       "        on_mouse_event_closure('scroll')(event);\n",
       "    });\n",
       "\n",
       "    canvas_div.appendChild(canvas);\n",
       "    canvas_div.appendChild(rubberband_canvas);\n",
       "\n",
       "    this.rubberband_context = rubberband_canvas.getContext('2d');\n",
       "    this.rubberband_context.strokeStyle = '#000000';\n",
       "\n",
       "    this._resize_canvas = function (width, height, forward) {\n",
       "        if (forward) {\n",
       "            canvas_div.style.width = width + 'px';\n",
       "            canvas_div.style.height = height + 'px';\n",
       "        }\n",
       "    };\n",
       "\n",
       "    // Disable right mouse context menu.\n",
       "    this.rubberband_canvas.addEventListener('contextmenu', function (_e) {\n",
       "        event.preventDefault();\n",
       "        return false;\n",
       "    });\n",
       "\n",
       "    function set_focus() {\n",
       "        canvas.focus();\n",
       "        canvas_div.focus();\n",
       "    }\n",
       "\n",
       "    window.setTimeout(set_focus, 100);\n",
       "};\n",
       "\n",
       "mpl.figure.prototype._init_toolbar = function () {\n",
       "    var fig = this;\n",
       "\n",
       "    var toolbar = document.createElement('div');\n",
       "    toolbar.classList = 'mpl-toolbar';\n",
       "    this.root.appendChild(toolbar);\n",
       "\n",
       "    function on_click_closure(name) {\n",
       "        return function (_event) {\n",
       "            return fig.toolbar_button_onclick(name);\n",
       "        };\n",
       "    }\n",
       "\n",
       "    function on_mouseover_closure(tooltip) {\n",
       "        return function (event) {\n",
       "            if (!event.currentTarget.disabled) {\n",
       "                return fig.toolbar_button_onmouseover(tooltip);\n",
       "            }\n",
       "        };\n",
       "    }\n",
       "\n",
       "    fig.buttons = {};\n",
       "    var buttonGroup = document.createElement('div');\n",
       "    buttonGroup.classList = 'mpl-button-group';\n",
       "    for (var toolbar_ind in mpl.toolbar_items) {\n",
       "        var name = mpl.toolbar_items[toolbar_ind][0];\n",
       "        var tooltip = mpl.toolbar_items[toolbar_ind][1];\n",
       "        var image = mpl.toolbar_items[toolbar_ind][2];\n",
       "        var method_name = mpl.toolbar_items[toolbar_ind][3];\n",
       "\n",
       "        if (!name) {\n",
       "            /* Instead of a spacer, we start a new button group. */\n",
       "            if (buttonGroup.hasChildNodes()) {\n",
       "                toolbar.appendChild(buttonGroup);\n",
       "            }\n",
       "            buttonGroup = document.createElement('div');\n",
       "            buttonGroup.classList = 'mpl-button-group';\n",
       "            continue;\n",
       "        }\n",
       "\n",
       "        var button = (fig.buttons[name] = document.createElement('button'));\n",
       "        button.classList = 'mpl-widget';\n",
       "        button.setAttribute('role', 'button');\n",
       "        button.setAttribute('aria-disabled', 'false');\n",
       "        button.addEventListener('click', on_click_closure(method_name));\n",
       "        button.addEventListener('mouseover', on_mouseover_closure(tooltip));\n",
       "\n",
       "        var icon_img = document.createElement('img');\n",
       "        icon_img.src = '_images/' + image + '.png';\n",
       "        icon_img.srcset = '_images/' + image + '_large.png 2x';\n",
       "        icon_img.alt = tooltip;\n",
       "        button.appendChild(icon_img);\n",
       "\n",
       "        buttonGroup.appendChild(button);\n",
       "    }\n",
       "\n",
       "    if (buttonGroup.hasChildNodes()) {\n",
       "        toolbar.appendChild(buttonGroup);\n",
       "    }\n",
       "\n",
       "    var fmt_picker = document.createElement('select');\n",
       "    fmt_picker.classList = 'mpl-widget';\n",
       "    toolbar.appendChild(fmt_picker);\n",
       "    this.format_dropdown = fmt_picker;\n",
       "\n",
       "    for (var ind in mpl.extensions) {\n",
       "        var fmt = mpl.extensions[ind];\n",
       "        var option = document.createElement('option');\n",
       "        option.selected = fmt === mpl.default_extension;\n",
       "        option.innerHTML = fmt;\n",
       "        fmt_picker.appendChild(option);\n",
       "    }\n",
       "\n",
       "    var status_bar = document.createElement('span');\n",
       "    status_bar.classList = 'mpl-message';\n",
       "    toolbar.appendChild(status_bar);\n",
       "    this.message = status_bar;\n",
       "};\n",
       "\n",
       "mpl.figure.prototype.request_resize = function (x_pixels, y_pixels) {\n",
       "    // Request matplotlib to resize the figure. Matplotlib will then trigger a resize in the client,\n",
       "    // which will in turn request a refresh of the image.\n",
       "    this.send_message('resize', { width: x_pixels, height: y_pixels });\n",
       "};\n",
       "\n",
       "mpl.figure.prototype.send_message = function (type, properties) {\n",
       "    properties['type'] = type;\n",
       "    properties['figure_id'] = this.id;\n",
       "    this.ws.send(JSON.stringify(properties));\n",
       "};\n",
       "\n",
       "mpl.figure.prototype.send_draw_message = function () {\n",
       "    if (!this.waiting) {\n",
       "        this.waiting = true;\n",
       "        this.ws.send(JSON.stringify({ type: 'draw', figure_id: this.id }));\n",
       "    }\n",
       "};\n",
       "\n",
       "mpl.figure.prototype.handle_save = function (fig, _msg) {\n",
       "    var format_dropdown = fig.format_dropdown;\n",
       "    var format = format_dropdown.options[format_dropdown.selectedIndex].value;\n",
       "    fig.ondownload(fig, format);\n",
       "};\n",
       "\n",
       "mpl.figure.prototype.handle_resize = function (fig, msg) {\n",
       "    var size = msg['size'];\n",
       "    if (size[0] !== fig.canvas.width || size[1] !== fig.canvas.height) {\n",
       "        fig._resize_canvas(size[0], size[1], msg['forward']);\n",
       "        fig.send_message('refresh', {});\n",
       "    }\n",
       "};\n",
       "\n",
       "mpl.figure.prototype.handle_rubberband = function (fig, msg) {\n",
       "    var x0 = msg['x0'] / fig.ratio;\n",
       "    var y0 = (fig.canvas.height - msg['y0']) / fig.ratio;\n",
       "    var x1 = msg['x1'] / fig.ratio;\n",
       "    var y1 = (fig.canvas.height - msg['y1']) / fig.ratio;\n",
       "    x0 = Math.floor(x0) + 0.5;\n",
       "    y0 = Math.floor(y0) + 0.5;\n",
       "    x1 = Math.floor(x1) + 0.5;\n",
       "    y1 = Math.floor(y1) + 0.5;\n",
       "    var min_x = Math.min(x0, x1);\n",
       "    var min_y = Math.min(y0, y1);\n",
       "    var width = Math.abs(x1 - x0);\n",
       "    var height = Math.abs(y1 - y0);\n",
       "\n",
       "    fig.rubberband_context.clearRect(\n",
       "        0,\n",
       "        0,\n",
       "        fig.canvas.width / fig.ratio,\n",
       "        fig.canvas.height / fig.ratio\n",
       "    );\n",
       "\n",
       "    fig.rubberband_context.strokeRect(min_x, min_y, width, height);\n",
       "};\n",
       "\n",
       "mpl.figure.prototype.handle_figure_label = function (fig, msg) {\n",
       "    // Updates the figure title.\n",
       "    fig.header.textContent = msg['label'];\n",
       "};\n",
       "\n",
       "mpl.figure.prototype.handle_cursor = function (fig, msg) {\n",
       "    fig.rubberband_canvas.style.cursor = msg['cursor'];\n",
       "};\n",
       "\n",
       "mpl.figure.prototype.handle_message = function (fig, msg) {\n",
       "    fig.message.textContent = msg['message'];\n",
       "};\n",
       "\n",
       "mpl.figure.prototype.handle_draw = function (fig, _msg) {\n",
       "    // Request the server to send over a new figure.\n",
       "    fig.send_draw_message();\n",
       "};\n",
       "\n",
       "mpl.figure.prototype.handle_image_mode = function (fig, msg) {\n",
       "    fig.image_mode = msg['mode'];\n",
       "};\n",
       "\n",
       "mpl.figure.prototype.handle_history_buttons = function (fig, msg) {\n",
       "    for (var key in msg) {\n",
       "        if (!(key in fig.buttons)) {\n",
       "            continue;\n",
       "        }\n",
       "        fig.buttons[key].disabled = !msg[key];\n",
       "        fig.buttons[key].setAttribute('aria-disabled', !msg[key]);\n",
       "    }\n",
       "};\n",
       "\n",
       "mpl.figure.prototype.handle_navigate_mode = function (fig, msg) {\n",
       "    if (msg['mode'] === 'PAN') {\n",
       "        fig.buttons['Pan'].classList.add('active');\n",
       "        fig.buttons['Zoom'].classList.remove('active');\n",
       "    } else if (msg['mode'] === 'ZOOM') {\n",
       "        fig.buttons['Pan'].classList.remove('active');\n",
       "        fig.buttons['Zoom'].classList.add('active');\n",
       "    } else {\n",
       "        fig.buttons['Pan'].classList.remove('active');\n",
       "        fig.buttons['Zoom'].classList.remove('active');\n",
       "    }\n",
       "};\n",
       "\n",
       "mpl.figure.prototype.updated_canvas_event = function () {\n",
       "    // Called whenever the canvas gets updated.\n",
       "    this.send_message('ack', {});\n",
       "};\n",
       "\n",
       "// A function to construct a web socket function for onmessage handling.\n",
       "// Called in the figure constructor.\n",
       "mpl.figure.prototype._make_on_message_function = function (fig) {\n",
       "    return function socket_on_message(evt) {\n",
       "        if (evt.data instanceof Blob) {\n",
       "            var img = evt.data;\n",
       "            if (img.type !== 'image/png') {\n",
       "                /* FIXME: We get \"Resource interpreted as Image but\n",
       "                 * transferred with MIME type text/plain:\" errors on\n",
       "                 * Chrome.  But how to set the MIME type?  It doesn't seem\n",
       "                 * to be part of the websocket stream */\n",
       "                img.type = 'image/png';\n",
       "            }\n",
       "\n",
       "            /* Free the memory for the previous frames */\n",
       "            if (fig.imageObj.src) {\n",
       "                (window.URL || window.webkitURL).revokeObjectURL(\n",
       "                    fig.imageObj.src\n",
       "                );\n",
       "            }\n",
       "\n",
       "            fig.imageObj.src = (window.URL || window.webkitURL).createObjectURL(\n",
       "                img\n",
       "            );\n",
       "            fig.updated_canvas_event();\n",
       "            fig.waiting = false;\n",
       "            return;\n",
       "        } else if (\n",
       "            typeof evt.data === 'string' &&\n",
       "            evt.data.slice(0, 21) === 'data:image/png;base64'\n",
       "        ) {\n",
       "            fig.imageObj.src = evt.data;\n",
       "            fig.updated_canvas_event();\n",
       "            fig.waiting = false;\n",
       "            return;\n",
       "        }\n",
       "\n",
       "        var msg = JSON.parse(evt.data);\n",
       "        var msg_type = msg['type'];\n",
       "\n",
       "        // Call the  \"handle_{type}\" callback, which takes\n",
       "        // the figure and JSON message as its only arguments.\n",
       "        try {\n",
       "            var callback = fig['handle_' + msg_type];\n",
       "        } catch (e) {\n",
       "            console.log(\n",
       "                \"No handler for the '\" + msg_type + \"' message type: \",\n",
       "                msg\n",
       "            );\n",
       "            return;\n",
       "        }\n",
       "\n",
       "        if (callback) {\n",
       "            try {\n",
       "                // console.log(\"Handling '\" + msg_type + \"' message: \", msg);\n",
       "                callback(fig, msg);\n",
       "            } catch (e) {\n",
       "                console.log(\n",
       "                    \"Exception inside the 'handler_\" + msg_type + \"' callback:\",\n",
       "                    e,\n",
       "                    e.stack,\n",
       "                    msg\n",
       "                );\n",
       "            }\n",
       "        }\n",
       "    };\n",
       "};\n",
       "\n",
       "// from https://stackoverflow.com/questions/1114465/getting-mouse-location-in-canvas\n",
       "mpl.findpos = function (e) {\n",
       "    //this section is from http://www.quirksmode.org/js/events_properties.html\n",
       "    var targ;\n",
       "    if (!e) {\n",
       "        e = window.event;\n",
       "    }\n",
       "    if (e.target) {\n",
       "        targ = e.target;\n",
       "    } else if (e.srcElement) {\n",
       "        targ = e.srcElement;\n",
       "    }\n",
       "    if (targ.nodeType === 3) {\n",
       "        // defeat Safari bug\n",
       "        targ = targ.parentNode;\n",
       "    }\n",
       "\n",
       "    // pageX,Y are the mouse positions relative to the document\n",
       "    var boundingRect = targ.getBoundingClientRect();\n",
       "    var x = e.pageX - (boundingRect.left + document.body.scrollLeft);\n",
       "    var y = e.pageY - (boundingRect.top + document.body.scrollTop);\n",
       "\n",
       "    return { x: x, y: y };\n",
       "};\n",
       "\n",
       "/*\n",
       " * return a copy of an object with only non-object keys\n",
       " * we need this to avoid circular references\n",
       " * https://stackoverflow.com/a/24161582/3208463\n",
       " */\n",
       "function simpleKeys(original) {\n",
       "    return Object.keys(original).reduce(function (obj, key) {\n",
       "        if (typeof original[key] !== 'object') {\n",
       "            obj[key] = original[key];\n",
       "        }\n",
       "        return obj;\n",
       "    }, {});\n",
       "}\n",
       "\n",
       "mpl.figure.prototype.mouse_event = function (event, name) {\n",
       "    var canvas_pos = mpl.findpos(event);\n",
       "\n",
       "    if (name === 'button_press') {\n",
       "        this.canvas.focus();\n",
       "        this.canvas_div.focus();\n",
       "    }\n",
       "\n",
       "    var x = canvas_pos.x * this.ratio;\n",
       "    var y = canvas_pos.y * this.ratio;\n",
       "\n",
       "    this.send_message(name, {\n",
       "        x: x,\n",
       "        y: y,\n",
       "        button: event.button,\n",
       "        step: event.step,\n",
       "        guiEvent: simpleKeys(event),\n",
       "    });\n",
       "\n",
       "    /* This prevents the web browser from automatically changing to\n",
       "     * the text insertion cursor when the button is pressed.  We want\n",
       "     * to control all of the cursor setting manually through the\n",
       "     * 'cursor' event from matplotlib */\n",
       "    event.preventDefault();\n",
       "    return false;\n",
       "};\n",
       "\n",
       "mpl.figure.prototype._key_event_extra = function (_event, _name) {\n",
       "    // Handle any extra behaviour associated with a key event\n",
       "};\n",
       "\n",
       "mpl.figure.prototype.key_event = function (event, name) {\n",
       "    // Prevent repeat events\n",
       "    if (name === 'key_press') {\n",
       "        if (event.key === this._key) {\n",
       "            return;\n",
       "        } else {\n",
       "            this._key = event.key;\n",
       "        }\n",
       "    }\n",
       "    if (name === 'key_release') {\n",
       "        this._key = null;\n",
       "    }\n",
       "\n",
       "    var value = '';\n",
       "    if (event.ctrlKey && event.key !== 'Control') {\n",
       "        value += 'ctrl+';\n",
       "    }\n",
       "    else if (event.altKey && event.key !== 'Alt') {\n",
       "        value += 'alt+';\n",
       "    }\n",
       "    else if (event.shiftKey && event.key !== 'Shift') {\n",
       "        value += 'shift+';\n",
       "    }\n",
       "\n",
       "    value += 'k' + event.key;\n",
       "\n",
       "    this._key_event_extra(event, name);\n",
       "\n",
       "    this.send_message(name, { key: value, guiEvent: simpleKeys(event) });\n",
       "    return false;\n",
       "};\n",
       "\n",
       "mpl.figure.prototype.toolbar_button_onclick = function (name) {\n",
       "    if (name === 'download') {\n",
       "        this.handle_save(this, null);\n",
       "    } else {\n",
       "        this.send_message('toolbar_button', { name: name });\n",
       "    }\n",
       "};\n",
       "\n",
       "mpl.figure.prototype.toolbar_button_onmouseover = function (tooltip) {\n",
       "    this.message.textContent = tooltip;\n",
       "};\n",
       "\n",
       "///////////////// REMAINING CONTENT GENERATED BY embed_js.py /////////////////\n",
       "// prettier-ignore\n",
       "var _JSXTOOLS_RESIZE_OBSERVER=function(A){var t,i=new WeakMap,n=new WeakMap,a=new WeakMap,r=new WeakMap,o=new Set;function s(e){if(!(this instanceof s))throw new TypeError(\"Constructor requires 'new' operator\");i.set(this,e)}function h(){throw new TypeError(\"Function is not a constructor\")}function c(e,t,i,n){e=0 in arguments?Number(arguments[0]):0,t=1 in arguments?Number(arguments[1]):0,i=2 in arguments?Number(arguments[2]):0,n=3 in arguments?Number(arguments[3]):0,this.right=(this.x=this.left=e)+(this.width=i),this.bottom=(this.y=this.top=t)+(this.height=n),Object.freeze(this)}function d(){t=requestAnimationFrame(d);var s=new WeakMap,p=new Set;o.forEach((function(t){r.get(t).forEach((function(i){var r=t instanceof window.SVGElement,o=a.get(t),d=r?0:parseFloat(o.paddingTop),f=r?0:parseFloat(o.paddingRight),l=r?0:parseFloat(o.paddingBottom),u=r?0:parseFloat(o.paddingLeft),g=r?0:parseFloat(o.borderTopWidth),m=r?0:parseFloat(o.borderRightWidth),w=r?0:parseFloat(o.borderBottomWidth),b=u+f,F=d+l,v=(r?0:parseFloat(o.borderLeftWidth))+m,W=g+w,y=r?0:t.offsetHeight-W-t.clientHeight,E=r?0:t.offsetWidth-v-t.clientWidth,R=b+v,z=F+W,M=r?t.width:parseFloat(o.width)-R-E,O=r?t.height:parseFloat(o.height)-z-y;if(n.has(t)){var k=n.get(t);if(k[0]===M&&k[1]===O)return}n.set(t,[M,O]);var S=Object.create(h.prototype);S.target=t,S.contentRect=new c(u,d,M,O),s.has(i)||(s.set(i,[]),p.add(i)),s.get(i).push(S)}))})),p.forEach((function(e){i.get(e).call(e,s.get(e),e)}))}return s.prototype.observe=function(i){if(i instanceof window.Element){r.has(i)||(r.set(i,new Set),o.add(i),a.set(i,window.getComputedStyle(i)));var n=r.get(i);n.has(this)||n.add(this),cancelAnimationFrame(t),t=requestAnimationFrame(d)}},s.prototype.unobserve=function(i){if(i instanceof window.Element&&r.has(i)){var n=r.get(i);n.has(this)&&(n.delete(this),n.size||(r.delete(i),o.delete(i))),n.size||r.delete(i),o.size||cancelAnimationFrame(t)}},A.DOMRectReadOnly=c,A.ResizeObserver=s,A.ResizeObserverEntry=h,A}; // eslint-disable-line\n",
       "mpl.toolbar_items = [[\"Home\", \"Reset original view\", \"fa fa-home icon-home\", \"home\"], [\"Back\", \"Back to previous view\", \"fa fa-arrow-left icon-arrow-left\", \"back\"], [\"Forward\", \"Forward to next view\", \"fa fa-arrow-right icon-arrow-right\", \"forward\"], [\"\", \"\", \"\", \"\"], [\"Pan\", \"Left button pans, Right button zooms\\nx/y fixes axis, CTRL fixes aspect\", \"fa fa-arrows icon-move\", \"pan\"], [\"Zoom\", \"Zoom to rectangle\\nx/y fixes axis\", \"fa fa-square-o icon-check-empty\", \"zoom\"], [\"\", \"\", \"\", \"\"], [\"Download\", \"Download plot\", \"fa fa-floppy-o icon-save\", \"download\"]];\n",
       "\n",
       "mpl.extensions = [\"eps\", \"jpeg\", \"pgf\", \"pdf\", \"png\", \"ps\", \"raw\", \"svg\", \"tif\"];\n",
       "\n",
       "mpl.default_extension = \"png\";/* global mpl */\n",
       "\n",
       "var comm_websocket_adapter = function (comm) {\n",
       "    // Create a \"websocket\"-like object which calls the given IPython comm\n",
       "    // object with the appropriate methods. Currently this is a non binary\n",
       "    // socket, so there is still some room for performance tuning.\n",
       "    var ws = {};\n",
       "\n",
       "    ws.binaryType = comm.kernel.ws.binaryType;\n",
       "    ws.readyState = comm.kernel.ws.readyState;\n",
       "    function updateReadyState(_event) {\n",
       "        if (comm.kernel.ws) {\n",
       "            ws.readyState = comm.kernel.ws.readyState;\n",
       "        } else {\n",
       "            ws.readyState = 3; // Closed state.\n",
       "        }\n",
       "    }\n",
       "    comm.kernel.ws.addEventListener('open', updateReadyState);\n",
       "    comm.kernel.ws.addEventListener('close', updateReadyState);\n",
       "    comm.kernel.ws.addEventListener('error', updateReadyState);\n",
       "\n",
       "    ws.close = function () {\n",
       "        comm.close();\n",
       "    };\n",
       "    ws.send = function (m) {\n",
       "        //console.log('sending', m);\n",
       "        comm.send(m);\n",
       "    };\n",
       "    // Register the callback with on_msg.\n",
       "    comm.on_msg(function (msg) {\n",
       "        //console.log('receiving', msg['content']['data'], msg);\n",
       "        var data = msg['content']['data'];\n",
       "        if (data['blob'] !== undefined) {\n",
       "            data = {\n",
       "                data: new Blob(msg['buffers'], { type: data['blob'] }),\n",
       "            };\n",
       "        }\n",
       "        // Pass the mpl event to the overridden (by mpl) onmessage function.\n",
       "        ws.onmessage(data);\n",
       "    });\n",
       "    return ws;\n",
       "};\n",
       "\n",
       "mpl.mpl_figure_comm = function (comm, msg) {\n",
       "    // This is the function which gets called when the mpl process\n",
       "    // starts-up an IPython Comm through the \"matplotlib\" channel.\n",
       "\n",
       "    var id = msg.content.data.id;\n",
       "    // Get hold of the div created by the display call when the Comm\n",
       "    // socket was opened in Python.\n",
       "    var element = document.getElementById(id);\n",
       "    var ws_proxy = comm_websocket_adapter(comm);\n",
       "\n",
       "    function ondownload(figure, _format) {\n",
       "        window.open(figure.canvas.toDataURL());\n",
       "    }\n",
       "\n",
       "    var fig = new mpl.figure(id, ws_proxy, ondownload, element);\n",
       "\n",
       "    // Call onopen now - mpl needs it, as it is assuming we've passed it a real\n",
       "    // web socket which is closed, not our websocket->open comm proxy.\n",
       "    ws_proxy.onopen();\n",
       "\n",
       "    fig.parent_element = element;\n",
       "    fig.cell_info = mpl.find_output_cell(\"<div id='\" + id + \"'></div>\");\n",
       "    if (!fig.cell_info) {\n",
       "        console.error('Failed to find cell for figure', id, fig);\n",
       "        return;\n",
       "    }\n",
       "    fig.cell_info[0].output_area.element.on(\n",
       "        'cleared',\n",
       "        { fig: fig },\n",
       "        fig._remove_fig_handler\n",
       "    );\n",
       "};\n",
       "\n",
       "mpl.figure.prototype.handle_close = function (fig, msg) {\n",
       "    var width = fig.canvas.width / fig.ratio;\n",
       "    fig.cell_info[0].output_area.element.off(\n",
       "        'cleared',\n",
       "        fig._remove_fig_handler\n",
       "    );\n",
       "    fig.resizeObserverInstance.unobserve(fig.canvas_div);\n",
       "\n",
       "    // Update the output cell to use the data from the current canvas.\n",
       "    fig.push_to_output();\n",
       "    var dataURL = fig.canvas.toDataURL();\n",
       "    // Re-enable the keyboard manager in IPython - without this line, in FF,\n",
       "    // the notebook keyboard shortcuts fail.\n",
       "    IPython.keyboard_manager.enable();\n",
       "    fig.parent_element.innerHTML =\n",
       "        '<img src=\"' + dataURL + '\" width=\"' + width + '\">';\n",
       "    fig.close_ws(fig, msg);\n",
       "};\n",
       "\n",
       "mpl.figure.prototype.close_ws = function (fig, msg) {\n",
       "    fig.send_message('closing', msg);\n",
       "    // fig.ws.close()\n",
       "};\n",
       "\n",
       "mpl.figure.prototype.push_to_output = function (_remove_interactive) {\n",
       "    // Turn the data on the canvas into data in the output cell.\n",
       "    var width = this.canvas.width / this.ratio;\n",
       "    var dataURL = this.canvas.toDataURL();\n",
       "    this.cell_info[1]['text/html'] =\n",
       "        '<img src=\"' + dataURL + '\" width=\"' + width + '\">';\n",
       "};\n",
       "\n",
       "mpl.figure.prototype.updated_canvas_event = function () {\n",
       "    // Tell IPython that the notebook contents must change.\n",
       "    IPython.notebook.set_dirty(true);\n",
       "    this.send_message('ack', {});\n",
       "    var fig = this;\n",
       "    // Wait a second, then push the new image to the DOM so\n",
       "    // that it is saved nicely (might be nice to debounce this).\n",
       "    setTimeout(function () {\n",
       "        fig.push_to_output();\n",
       "    }, 1000);\n",
       "};\n",
       "\n",
       "mpl.figure.prototype._init_toolbar = function () {\n",
       "    var fig = this;\n",
       "\n",
       "    var toolbar = document.createElement('div');\n",
       "    toolbar.classList = 'btn-toolbar';\n",
       "    this.root.appendChild(toolbar);\n",
       "\n",
       "    function on_click_closure(name) {\n",
       "        return function (_event) {\n",
       "            return fig.toolbar_button_onclick(name);\n",
       "        };\n",
       "    }\n",
       "\n",
       "    function on_mouseover_closure(tooltip) {\n",
       "        return function (event) {\n",
       "            if (!event.currentTarget.disabled) {\n",
       "                return fig.toolbar_button_onmouseover(tooltip);\n",
       "            }\n",
       "        };\n",
       "    }\n",
       "\n",
       "    fig.buttons = {};\n",
       "    var buttonGroup = document.createElement('div');\n",
       "    buttonGroup.classList = 'btn-group';\n",
       "    var button;\n",
       "    for (var toolbar_ind in mpl.toolbar_items) {\n",
       "        var name = mpl.toolbar_items[toolbar_ind][0];\n",
       "        var tooltip = mpl.toolbar_items[toolbar_ind][1];\n",
       "        var image = mpl.toolbar_items[toolbar_ind][2];\n",
       "        var method_name = mpl.toolbar_items[toolbar_ind][3];\n",
       "\n",
       "        if (!name) {\n",
       "            /* Instead of a spacer, we start a new button group. */\n",
       "            if (buttonGroup.hasChildNodes()) {\n",
       "                toolbar.appendChild(buttonGroup);\n",
       "            }\n",
       "            buttonGroup = document.createElement('div');\n",
       "            buttonGroup.classList = 'btn-group';\n",
       "            continue;\n",
       "        }\n",
       "\n",
       "        button = fig.buttons[name] = document.createElement('button');\n",
       "        button.classList = 'btn btn-default';\n",
       "        button.href = '#';\n",
       "        button.title = name;\n",
       "        button.innerHTML = '<i class=\"fa ' + image + ' fa-lg\"></i>';\n",
       "        button.addEventListener('click', on_click_closure(method_name));\n",
       "        button.addEventListener('mouseover', on_mouseover_closure(tooltip));\n",
       "        buttonGroup.appendChild(button);\n",
       "    }\n",
       "\n",
       "    if (buttonGroup.hasChildNodes()) {\n",
       "        toolbar.appendChild(buttonGroup);\n",
       "    }\n",
       "\n",
       "    // Add the status bar.\n",
       "    var status_bar = document.createElement('span');\n",
       "    status_bar.classList = 'mpl-message pull-right';\n",
       "    toolbar.appendChild(status_bar);\n",
       "    this.message = status_bar;\n",
       "\n",
       "    // Add the close button to the window.\n",
       "    var buttongrp = document.createElement('div');\n",
       "    buttongrp.classList = 'btn-group inline pull-right';\n",
       "    button = document.createElement('button');\n",
       "    button.classList = 'btn btn-mini btn-primary';\n",
       "    button.href = '#';\n",
       "    button.title = 'Stop Interaction';\n",
       "    button.innerHTML = '<i class=\"fa fa-power-off icon-remove icon-large\"></i>';\n",
       "    button.addEventListener('click', function (_evt) {\n",
       "        fig.handle_close(fig, {});\n",
       "    });\n",
       "    button.addEventListener(\n",
       "        'mouseover',\n",
       "        on_mouseover_closure('Stop Interaction')\n",
       "    );\n",
       "    buttongrp.appendChild(button);\n",
       "    var titlebar = this.root.querySelector('.ui-dialog-titlebar');\n",
       "    titlebar.insertBefore(buttongrp, titlebar.firstChild);\n",
       "};\n",
       "\n",
       "mpl.figure.prototype._remove_fig_handler = function (event) {\n",
       "    var fig = event.data.fig;\n",
       "    if (event.target !== this) {\n",
       "        // Ignore bubbled events from children.\n",
       "        return;\n",
       "    }\n",
       "    fig.close_ws(fig, {});\n",
       "};\n",
       "\n",
       "mpl.figure.prototype._root_extra_style = function (el) {\n",
       "    el.style.boxSizing = 'content-box'; // override notebook setting of border-box.\n",
       "};\n",
       "\n",
       "mpl.figure.prototype._canvas_extra_style = function (el) {\n",
       "    // this is important to make the div 'focusable\n",
       "    el.setAttribute('tabindex', 0);\n",
       "    // reach out to IPython and tell the keyboard manager to turn it's self\n",
       "    // off when our div gets focus\n",
       "\n",
       "    // location in version 3\n",
       "    if (IPython.notebook.keyboard_manager) {\n",
       "        IPython.notebook.keyboard_manager.register_events(el);\n",
       "    } else {\n",
       "        // location in version 2\n",
       "        IPython.keyboard_manager.register_events(el);\n",
       "    }\n",
       "};\n",
       "\n",
       "mpl.figure.prototype._key_event_extra = function (event, _name) {\n",
       "    // Check for shift+enter\n",
       "    if (event.shiftKey && event.which === 13) {\n",
       "        this.canvas_div.blur();\n",
       "        // select the cell after this one\n",
       "        var index = IPython.notebook.find_cell_index(this.cell_info[0]);\n",
       "        IPython.notebook.select(index + 1);\n",
       "    }\n",
       "};\n",
       "\n",
       "mpl.figure.prototype.handle_save = function (fig, _msg) {\n",
       "    fig.ondownload(fig, null);\n",
       "};\n",
       "\n",
       "mpl.find_output_cell = function (html_output) {\n",
       "    // Return the cell and output element which can be found *uniquely* in the notebook.\n",
       "    // Note - this is a bit hacky, but it is done because the \"notebook_saving.Notebook\"\n",
       "    // IPython event is triggered only after the cells have been serialised, which for\n",
       "    // our purposes (turning an active figure into a static one), is too late.\n",
       "    var cells = IPython.notebook.get_cells();\n",
       "    var ncells = cells.length;\n",
       "    for (var i = 0; i < ncells; i++) {\n",
       "        var cell = cells[i];\n",
       "        if (cell.cell_type === 'code') {\n",
       "            for (var j = 0; j < cell.output_area.outputs.length; j++) {\n",
       "                var data = cell.output_area.outputs[j];\n",
       "                if (data.data) {\n",
       "                    // IPython >= 3 moved mimebundle to data attribute of output\n",
       "                    data = data.data;\n",
       "                }\n",
       "                if (data['text/html'] === html_output) {\n",
       "                    return [cell, data, j];\n",
       "                }\n",
       "            }\n",
       "        }\n",
       "    }\n",
       "};\n",
       "\n",
       "// Register the function which deals with the matplotlib target/channel.\n",
       "// The kernel may be null if the page has been refreshed.\n",
       "if (IPython.notebook.kernel !== null) {\n",
       "    IPython.notebook.kernel.comm_manager.register_target(\n",
       "        'matplotlib',\n",
       "        mpl.mpl_figure_comm\n",
       "    );\n",
       "}\n"
      ],
      "text/plain": [
       "<IPython.core.display.Javascript object>"
      ]
     },
     "metadata": {},
     "output_type": "display_data"
    },
    {
     "data": {
      "text/html": [
       "<img src=\"data:image/png;base64,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\" width=\"1000\">"
      ],
      "text/plain": [
       "<IPython.core.display.HTML object>"
      ]
     },
     "metadata": {},
     "output_type": "display_data"
    }
   ],
   "source": [
    "plt.figure(figsize = (10, 5))\n",
    "\n",
    "x = np.arange(-10, 10, 1)\n",
    "\n",
    "y = 3 * x - 2\n",
    "\n",
    "plt.plot(x, y, 'o-')\n",
    "\n",
    "plt.show()"
   ]
  },
  {
   "cell_type": "code",
   "execution_count": null,
   "id": "1c36b0fd",
   "metadata": {},
   "outputs": [],
   "source": []
  }
 ],
 "metadata": {
  "kernelspec": {
   "display_name": "Python 3 (ipykernel)",
   "language": "python",
   "name": "python3"
  },
  "language_info": {
   "codemirror_mode": {
    "name": "ipython",
    "version": 3
   },
   "file_extension": ".py",
   "mimetype": "text/x-python",
   "name": "python",
   "nbconvert_exporter": "python",
   "pygments_lexer": "ipython3",
   "version": "3.9.12"
  }
 },
 "nbformat": 4,
 "nbformat_minor": 5
}
