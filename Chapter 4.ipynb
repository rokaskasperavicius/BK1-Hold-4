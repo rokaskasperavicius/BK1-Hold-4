{
 "cells": [
  {
   "cell_type": "code",
   "execution_count": 1,
   "id": "4fe32eaf",
   "metadata": {},
   "outputs": [],
   "source": [
    "import pandas as pd\n",
    "import numpy as np"
   ]
  },
  {
   "cell_type": "markdown",
   "id": "ff211eac",
   "metadata": {},
   "source": [
    "### 4.3.2.a"
   ]
  },
  {
   "cell_type": "code",
   "execution_count": 2,
   "id": "5cef8752",
   "metadata": {},
   "outputs": [
    {
     "data": {
      "text/plain": [
       "<AxesSubplot:>"
      ]
     },
     "execution_count": 2,
     "metadata": {},
     "output_type": "execute_result"
    },
    {
     "data": {
      "image/png": "[encoded data removed]",
      "text/plain": [
       "<Figure size 432x288 with 1 Axes>"
      ]
     },
     "metadata": {
      "needs_background": "light"
     },
     "output_type": "display_data"
    }
   ],
   "source": [
    "df = pd.read_csv('http://dirac.ruc.dk/~urp/2022/BC1/molar.csv')\n",
    "\n",
    "# df.value_counts().sort_index().plot.bar()\n",
    "\n",
    "# df.value_counts().sort_index().plot.bar()\n",
    "\n",
    "df['molar'].plot.bar()"
   ]
  },
  {
   "cell_type": "markdown",
   "id": "8c80e288",
   "metadata": {},
   "source": [
    "|     Value    | Frequency |\n",
    "| ------------ | --------- |\n",
    "|      5.4     |     1     |\n",
    "|      5.5     |     0     |\n",
    "|      5.6     |     0     |\n",
    "|      5.7     |     5     |\n",
    "|      5.8     |     2     |\n",
    "|      5.9     |     5     |\n",
    "|      6.0     |     4     |\n",
    "|      6.1     |     8     |\n",
    "|      6.2     |     6     |\n",
    "|      6.3     |     2     |\n",
    "|      6.4     |     0     |\n",
    "|      6.5     |     2     |\n",
    "|      6.6     |     0     |\n",
    "|      6.7     |     1     |\n",
    "\n",
    "\n",
    "|     Value    | Frequency |\n",
    "| ------------ | --------- |\n",
    "|  [5.4, 5.5]  |     1     |\n",
    "|  [5.6, 5.7]  |     5     |\n",
    "|  [5.8, 5.9]  |     7     |\n",
    "|  [6.0, 6.1]  |     12    |\n",
    "|  [6.2, 6.3]  |     8     |\n",
    "|  [6.4, 6.5]  |     2     |\n",
    "|  [6.6, 6.7]  |     1     |"
   ]
  },
  {
   "cell_type": "code",
   "execution_count": 3,
   "id": "9bbd4f71",
   "metadata": {},
   "outputs": [
    {
     "data": {
      "text/plain": [
       "(5.398, 5.53]    1\n",
       "(5.53, 5.66]     0\n",
       "(5.66, 5.79]     5\n",
       "(5.79, 5.92]     7\n",
       "(5.92, 6.05]     4\n",
       "(6.05, 6.18]     8\n",
       "(6.18, 6.31]     8\n",
       "(6.31, 6.44]     0\n",
       "(6.44, 6.57]     2\n",
       "(6.57, 6.7]      1\n",
       "Name: molar, dtype: int64"
      ]
     },
     "execution_count": 3,
     "metadata": {},
     "output_type": "execute_result"
    }
   ],
   "source": [
    "df['molar'].value_counts(bins=10, sort=False)"
   ]
  },
  {
   "cell_type": "code",
   "execution_count": 40,
   "id": "13450446",
   "metadata": {},
   "outputs": [
    {
     "data": {
      "text/plain": [
       "<AxesSubplot:xlabel='intervals'>"
      ]
     },
     "execution_count": 40,
     "metadata": {},
     "output_type": "execute_result"
    },
    {
     "data": {
      "image/png": "[encoded data removed]",
      "text/plain": [
       "<Figure size 432x288 with 1 Axes>"
      ]
     },
     "metadata": {
      "needs_background": "light"
     },
     "output_type": "display_data"
    }
   ],
   "source": [
    "data = pd.DataFrame({\n",
    "    'intervals': ['(5.4, 5.5]', '(5.5, 5.6]'],\n",
    "    'frequency': [1, 5]\n",
    "})\n",
    "\n",
    "data.plot.bar(x='intervals', y='frequency', rot=0)"
   ]
  },
  {
   "cell_type": "code",
   "execution_count": 17,
   "id": "fcc948a9",
   "metadata": {},
   "outputs": [
    {
     "data": {
      "text/plain": [
       "<AxesSubplot:>"
      ]
     },
     "execution_count": 17,
     "metadata": {},
     "output_type": "execute_result"
    },
    {
     "data": {
      "image/png": "[encoded data removed]",
      "text/plain": [
       "<Figure size 432x288 with 1 Axes>"
      ]
     },
     "metadata": {
      "needs_background": "light"
     },
     "output_type": "display_data"
    }
   ],
   "source": [
    "df['molar'].value_counts(bins=7, sort=False).plot.bar()"
   ]
  },
  {
   "cell_type": "markdown",
   "id": "9b2bafa2",
   "metadata": {},
   "source": [
    "### 4.3.2.b"
   ]
  },
  {
   "cell_type": "code",
   "execution_count": 58,
   "id": "c07c01a0",
   "metadata": {},
   "outputs": [
    {
     "data": {
      "text/plain": [
       "array([5.4, 5.9, 6.4])"
      ]
     },
     "execution_count": 58,
     "metadata": {},
     "output_type": "execute_result"
    },
    {
     "data": {
      "image/png": "[encoded data removed]",
      "text/plain": [
       "<Figure size 432x288 with 1 Axes>"
      ]
     },
     "metadata": {
      "needs_background": "light"
     },
     "output_type": "display_data"
    }
   ],
   "source": [
    "start_interval = 5.4\n",
    "end_interval = 6.6\n",
    "interval_range = 0.2\n",
    "\n",
    "df['molar'].plot.hist(bins=np.arange(start_interval, end_interval, interval_range))\n",
    "np.arange(5.4, 6.6, 0.5)\n",
    "\n",
    "# 0.1 interval\n",
    "# df['molar'].plot.hist(bins=14)\n",
    "\n",
    "# 0.2 interval\n",
    "# df['molar'].plot.hist(bins=12)"
   ]
  },
  {
   "cell_type": "markdown",
   "id": "1dd53304",
   "metadata": {},
   "source": [
    "### 4.4"
   ]
  },
  {
   "cell_type": "code",
   "execution_count": 107,
   "id": "5cb50919",
   "metadata": {},
   "outputs": [
    {
     "name": "stdout",
     "output_type": "stream",
     "text": [
      "Overwriting popcorn.csv\n"
     ]
    }
   ],
   "source": [
    "%%writefile popcorn.csv\n",
    "Popped,Size (longest),Size (shortest),Color, Is Salty\n",
    "Yes,29,9,White,Yes\n",
    "Yes,31,6,White,yes\n",
    "Yes,20,12,Brown,No\n",
    "Yes,28,12,Yellow,Yes\n",
    "Yes,31,12,Brown,No\n",
    "Yes,34,9,White,Yes\n",
    "Yes,39,11,Brown,No\n",
    "Yes,36,11,White,Yes\n",
    "Yes,32,14,Brown,No\n",
    "Yes,36,8,White,Yes\n",
    "Yes,29,10,Black,No\n",
    "Yes,29,8,White,No\n",
    "Yes,32,7,Yellow,Yes\n",
    "Yes,23,11,White,No\n",
    "Yes,27,6,Yellow,Yes\n",
    "No,6,5,Orange,Bad\n",
    "Yes,22,15,Yellow,Yes\n",
    "Yes,27,9,White,Yes\n",
    "Yes,24,10,Brown,Yes\n",
    "No,7,4,Orange,Bad\n",
    "Yes,19,6,Black,Yes\n",
    "Yes,34,19,Brown,No\n",
    "Yes,24,14,Brown,Yes\n",
    "Yes,43,13,Brown,Yes\n",
    "Yes,29,18,White,Yes\n",
    "Yes,35,15,Brown,Yes\n",
    "Yes,36,10,Brown,No\n",
    "No,6,8,Orange,Yes\n",
    "Yes,30,16,White,Yes\n",
    "Yes,33,11,White,Yes\n",
    "No,6,4,Black-ish,No\n",
    "Yes,33,7,Brown,Yes\n",
    "Yes,27,10,White,No\n",
    "Yes,30,12,White,Yes\n",
    "No,8,4,Orange,No\n",
    "Yes,23,11,Brown,Yes\n",
    "Yes,26,14,White,Yes\n",
    "Yes,34,19,Brown,No\n",
    "Yes,30,9,White,No\n",
    "No,5,5,Orange,No\n",
    "Yes,21,12,Brown,Yes\n",
    "Yes,24,17,White,No\n",
    "Yes,27,6,Black,Yes\n",
    "Yes,26,7,White,Yes\n",
    "Yes,19,8,Yellow-ish,Yes\n",
    "Yes,21,15,Brown,Yes\n",
    "Yes,17,6,Brown,Yes\n",
    "Yes,38,19,Yellow-ish,Yes\n",
    "Yes,19,7,Black,Yes\n",
    "Yes,47,16,White,Yes\n",
    "Yes,27,12,Yellow,Yes\n",
    "No,5,4,Orange,No\n",
    "Yes,20,17,White,Yes\n",
    "Yes,36,5,Brown,Yes\n",
    "Yes,23,12,White,No\n",
    "Yes,39,15,Brown,Yes\n",
    "No,7,4,Orange,No\n",
    "Yes,23,12,Brown,Yes\n",
    "No,8,7,Black,Yes\n",
    "Yes,28,15,Black,Yes\n",
    "Yes,14,8,White,No\n",
    "Yes,24,11,Yellow,Yes\n",
    "Yes,28,22,White,Yes\n",
    "No,8,6,Orange,No\n",
    "Yes,32,9,White,Yes\n",
    "Yes,20,9,Black,Yes\n",
    "Yes,36,10,White,No\n",
    "Yes,23,9,Yellow,No\n",
    "Yes,30,15,Yellow,No\n",
    "Yes,19,10,White,Yes\n",
    "Yes,30,15,Yellow,No\n",
    "Yes,35,6,White,Yes\n",
    "Yes,21,8,White,Yes\n",
    "Yes,15,8,Black,No\n",
    "Yes,24,10,Yellow,No\n",
    "Yes,24,11,Brown,Yes\n",
    "No,7,6,Orange,Yes\n",
    "Yes,28,6,Yellow,No\n",
    "Yes,20,6,Yellow,No\n",
    "Yes,20,6,Black,Yes\n",
    "Yes,16,6,Yellow,No\n",
    "No,9,4,Orange,No\n",
    "Yes,31,10,Brown,Yes\n",
    "Yes,27,10,Brown,Yes\n",
    "No,8,5,Orange,No\n",
    "Yes,21,10,Yellow,Yes\n",
    "Yes,21,7,Brown,Yes\n",
    "Yes,20,10,Yellow,Yes\n",
    "Yes,20,9,Black,Yes\n",
    "Yes,22,10,Brown,Yes\n",
    "Yes,20,11,Brown,Yes\n",
    "Yes,26,11,Black,Yes\n",
    "Yes,20,10,Yellow,No\n",
    "No,7,6,Orange,No\n",
    "Yes,15,12,Yellow,Yes\n",
    "Yes,23,18,White,Yes\n",
    "No,8,5,Orange,Yes\n",
    "Yes,28,12,Black,Yes\n",
    "Yes,17,6,White,No\n",
    "Yes,16,4,White,No"
   ]
  },
  {
   "cell_type": "code",
   "execution_count": 60,
   "id": "95d7f28e",
   "metadata": {},
   "outputs": [],
   "source": [
    "df = pd.read_csv('popcorn.csv')"
   ]
  },
  {
   "cell_type": "code",
   "execution_count": 72,
   "id": "5b9920bd",
   "metadata": {},
   "outputs": [],
   "source": [
    "total_number = df['Popped'].value_counts().sum()"
   ]
  },
  {
   "cell_type": "code",
   "execution_count": 81,
   "id": "f789a4d5",
   "metadata": {},
   "outputs": [
    {
     "data": {
      "text/plain": [
       "<AxesSubplot:>"
      ]
     },
     "execution_count": 81,
     "metadata": {},
     "output_type": "execute_result"
    },
    {
     "data": {
      "image/png": "[encoded data removed]",
      "text/plain": [
       "<Figure size 432x288 with 1 Axes>"
      ]
     },
     "metadata": {
      "needs_background": "light"
     },
     "output_type": "display_data"
    }
   ],
   "source": [
    "percentage = df['Popped'].value_counts() / total_number\n",
    "\n",
    "percentage.plot.bar()"
   ]
  },
  {
   "cell_type": "code",
   "execution_count": 6,
   "id": "fb01cd24",
   "metadata": {},
   "outputs": [
    {
     "data": {
      "text/plain": [
       "<AxesSubplot:title={'center':'Success frequency of popped kernels'}>"
      ]
     },
     "execution_count": 6,
     "metadata": {},
     "output_type": "execute_result"
    },
    {
     "data": {
      "image/png": "[encoded data removed]",
      "text/plain": [
       "<Figure size 432x288 with 1 Axes>"
      ]
     },
     "metadata": {
      "needs_background": "light"
     },
     "output_type": "display_data"
    }
   ],
   "source": [
    "df['Popped'].value_counts().plot.bar(rot=0, title='Success frequency of popped kernels')"
   ]
  },
  {
   "cell_type": "code",
   "execution_count": 15,
   "id": "7d6f985f",
   "metadata": {},
   "outputs": [
    {
     "name": "stdout",
     "output_type": "stream",
     "text": [
      "Yes    0.85\n",
      "No     0.15\n",
      "Name: Popped, dtype: float64\n"
     ]
    },
    {
     "data": {
      "text/plain": [
       "<AxesSubplot:title={'center':'Success frequency ratio of popped kernels'}>"
      ]
     },
     "execution_count": 15,
     "metadata": {},
     "output_type": "execute_result"
    },
    {
     "data": {
      "image/png": "[encoded data removed]",
      "text/plain": [
       "<Figure size 432x288 with 1 Axes>"
      ]
     },
     "metadata": {
      "needs_background": "light"
     },
     "output_type": "display_data"
    }
   ],
   "source": [
    "sum = df['Popped'].value_counts().sum()\n",
    "\n",
    "popped_ratio = df['Popped'].value_counts() / sum\n",
    "\n",
    "print(popped_ratio)\n",
    "\n",
    "popped_ratio.plot.bar(rot=0, title='Success frequency ratio of popped kernels')"
   ]
  },
  {
   "cell_type": "code",
   "execution_count": 126,
   "id": "76a20b5c",
   "metadata": {},
   "outputs": [
    {
     "data": {
      "text/plain": [
       "<AxesSubplot:ylabel='Frequency'>"
      ]
     },
     "execution_count": 126,
     "metadata": {},
     "output_type": "execute_result"
    },
    {
     "data": {
      "image/png": "[encoded data removed]",
      "text/plain": [
       "<Figure size 432x288 with 1 Axes>"
      ]
     },
     "metadata": {
      "needs_background": "light"
     },
     "output_type": "display_data"
    }
   ],
   "source": [
    "df['Size (longest)'].plot.hist(bins=8)"
   ]
  },
  {
   "cell_type": "code",
   "execution_count": 85,
   "id": "03f093dc",
   "metadata": {},
   "outputs": [
    {
     "data": {
      "text/plain": [
       "<AxesSubplot:ylabel='Frequency'>"
      ]
     },
     "execution_count": 85,
     "metadata": {},
     "output_type": "execute_result"
    },
    {
     "data": {
      "image/png": "[encoded data removed]",
      "text/plain": [
       "<Figure size 432x288 with 1 Axes>"
      ]
     },
     "metadata": {
      "needs_background": "light"
     },
     "output_type": "display_data"
    }
   ],
   "source": [
    "\n",
    "# df['Size (longest)'].plot.hist(bins=8)\n",
    "df['Size (shortest)'].plot.hist(bins=8)\n"
   ]
  },
  {
   "cell_type": "code",
   "execution_count": 21,
   "id": "fa0dc15f",
   "metadata": {},
   "outputs": [
    {
     "data": {
      "text/plain": [
       "<AxesSubplot:xlabel='Size (longest)', ylabel='Size (shortest)'>"
      ]
     },
     "execution_count": 21,
     "metadata": {},
     "output_type": "execute_result"
    },
    {
     "data": {
      "image/png": "[encoded data removed]",
      "text/plain": [
       "<Figure size 432x288 with 1 Axes>"
      ]
     },
     "metadata": {
      "needs_background": "light"
     },
     "output_type": "display_data"
    }
   ],
   "source": [
    "df.plot.scatter(\n",
    "    y='Size (shortest)',\n",
    "    x='Size (longest)',\n",
    ")"
   ]
  },
  {
   "cell_type": "code",
   "execution_count": 22,
   "id": "8bb306fd",
   "metadata": {},
   "outputs": [
    {
     "data": {
      "image/png": "[encoded data removed]",
      "text/plain": [
       "<Figure size 432x36 with 1 Axes>"
      ]
     },
     "metadata": {
      "needs_background": "light"
     },
     "output_type": "display_data"
    }
   ],
   "source": [
    "import matplotlib . pyplot as plt\n",
    "\n",
    "# DataFrame with data.\n",
    "df = pd.DataFrame({\n",
    "    'Infant mortality rate': [\n",
    "        11.4, 44.7, 22.6, 7.7, 18.9, 20.9,\n",
    "        30.0, 24.7, 28.6, 18.8, 11.3, 26.5\n",
    "    ]\n",
    "})\n",
    "\n",
    "# Make dot plot.\n",
    "y = df['Infant mortality rate']\n",
    "plt.figure(figsize=[6, 0.5])  # New elongated figure.\n",
    "plt.plot(   # Plot values agains zeros:\n",
    "    y,      # - values on x-axis,\n",
    "    y*0,    # - values on y-axis,\n",
    "    'o'     # - make dots.\n",
    ")\n",
    "plt.yticks([])   # Remove ticks on y-axis.\n",
    "plt.xlim(0, 50)  # Set limits on x-axis.\n",
    "plt.xlabel('Infant mortality rate in percent')\n",
    "plt.show()"
   ]
  },
  {
   "cell_type": "code",
   "execution_count": null,
   "id": "72556d72",
   "metadata": {},
   "outputs": [],
   "source": []
  }
 ],
 "metadata": {
  "kernelspec": {
   "display_name": "Python 3 (ipykernel)",
   "language": "python",
   "name": "python3"
  },
  "language_info": {
   "codemirror_mode": {
    "name": "ipython",
    "version": 3
   },
   "file_extension": ".py",
   "mimetype": "text/x-python",
   "name": "python",
   "nbconvert_exporter": "python",
   "pygments_lexer": "ipython3",
   "version": "3.9.12"
  }
 },
 "nbformat": 4,
 "nbformat_minor": 5
}
